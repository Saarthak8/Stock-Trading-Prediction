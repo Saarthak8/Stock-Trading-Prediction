{
 "cells": [
  {
   "cell_type": "code",
   "execution_count": 8,
   "metadata": {},
   "outputs": [
    {
     "name": "stdout",
     "output_type": "stream",
     "text": [
      "^BSESN\n",
      "[*********************100%***********************]  1 of 1 completed\n",
      "^NSEI\n",
      "[*********************100%***********************]  1 of 1 completed\n",
      "         Date          Open          High           Low         Close  \\\n",
      "0  2018-01-01  34059.988281  34101.128906  33766.148438  33812.750000   \n",
      "1  2018-01-02  33913.550781  33964.140625  33703.371094  33812.261719   \n",
      "2  2018-01-03  33929.609375  33998.371094  33765.429688  33793.378906   \n",
      "3  2018-01-04  33912.488281  33995.398438  33802.128906  33969.640625   \n",
      "4  2018-01-05  34021.269531  34188.851562  34020.839844  34153.851562   \n",
      "5  2018-01-08  34216.328125  34385.671875  34216.328125  34352.789062   \n",
      "6  2018-01-09  34431.609375  34488.031250  34343.410156  34443.191406   \n",
      "7  2018-01-10  34538.781250  34565.628906  34311.628906  34433.070312   \n",
      "8  2018-01-11  34471.480469  34558.878906  34400.609375  34503.488281   \n",
      "9  2018-01-12  34578.988281  34638.421875  34342.160156  34592.390625   \n",
      "\n",
      "      Adj Close  Volume  \n",
      "0  33812.750000    7500  \n",
      "1  33812.261719   10600  \n",
      "2  33793.378906    9000  \n",
      "3  33969.640625   10500  \n",
      "4  34153.851562   14700  \n",
      "5  34352.789062   13500  \n",
      "6  34443.191406   11200  \n",
      "7  34433.070312    8500  \n",
      "8  34503.488281    8100  \n",
      "9  34592.390625    7800  \n",
      "         Date          Open          High           Low         Close  \\\n",
      "0  2018-01-02  10477.549805  10495.200195  10404.650391  10442.200195   \n",
      "1  2018-01-03  10482.650391  10503.599609  10429.549805  10443.200195   \n",
      "2  2018-01-04  10469.400391  10513.000000  10441.450195  10504.799805   \n",
      "3  2018-01-05  10534.250000  10566.099609  10520.099609  10558.849609   \n",
      "4  2018-01-08  10591.700195  10631.200195  10588.549805  10623.599609   \n",
      "5  2018-01-09  10645.099609  10659.150391  10603.599609  10637.000000   \n",
      "6  2018-01-10  10652.049805  10655.500000  10592.700195  10632.200195   \n",
      "7  2018-01-11  10637.049805  10664.599609  10612.349609  10651.200195   \n",
      "8  2018-01-12  10682.549805  10690.400391  10597.099609  10681.250000   \n",
      "9  2018-01-15  10718.500000  10782.650391  10713.799805  10741.549805   \n",
      "\n",
      "      Adj Close  Volume  \n",
      "0  10442.200195  153400  \n",
      "1  10443.200195  167300  \n",
      "2  10504.799805  174900  \n",
      "3  10558.849609  180900  \n",
      "4  10623.599609  169000  \n",
      "5  10637.000000  205000  \n",
      "6  10632.200195  176400  \n",
      "7  10651.200195  153800  \n",
      "8  10681.250000  175200  \n",
      "9  10741.549805  175900  \n"
     ]
    }
   ],
   "source": [
    "from pandas_datareader import data as pdr\n",
    "from datetime import date\n",
    "import yfinance as yf\n",
    "yf.pdr_override()\n",
    "import pandas as pd\n",
    "# Tickers list\n",
    "# We can add and delete any ticker from the list to get desired ticker live data\n",
    "ticker_list=['^BSESN', '^NSEI']\n",
    "today = date.today()\n",
    "# We can get data by our choice by giving days bracket\n",
    "start_date= '2018-01-01'\n",
    "files=[]\n",
    "def getData(ticker):\n",
    "    print (ticker)\n",
    "    data = pdr.get_data_yahoo(ticker, start=start_date, end=today)\n",
    "    dataname= ticker+'_'+str(today)\n",
    "    files.append(dataname)\n",
    "    SaveData(data, dataname)\n",
    "# Create a data folder in your current dir.\n",
    "def SaveData(df, filename):\n",
    "    df.to_csv('./data/'+filename+'.csv')\n",
    "    #This loop will iterate over ticker list, will pass one ticker to get data,\n",
    "    #and save that data as file.\n",
    "for tik in ticker_list:\n",
    "    getData(tik)\n",
    "for i in range(0,len(ticker_list)):\n",
    "    df1= pd.read_csv('./data/'+ str(files[i])+'.csv')\n",
    "    print(df1.head(10))"
   ]
  },
  {
   "cell_type": "code",
   "execution_count": null,
   "metadata": {},
   "outputs": [],
   "source": []
  }
 ],
 "metadata": {
  "kernelspec": {
   "display_name": "Python 3",
   "language": "python",
   "name": "python3"
  },
  "language_info": {
   "codemirror_mode": {
    "name": "ipython",
    "version": 3
   },
   "file_extension": ".py",
   "mimetype": "text/x-python",
   "name": "python",
   "nbconvert_exporter": "python",
   "pygments_lexer": "ipython3",
   "version": "3.8.3"
  }
 },
 "nbformat": 4,
 "nbformat_minor": 4
}
